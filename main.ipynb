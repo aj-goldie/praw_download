{
  "cells": [
    {
      "cell_type": "code",
      "execution_count": null,
      "metadata": {},
      "outputs": [],
      "source": [
        "print('Hello, World!')"
      ]
    }
  ],
  "metadata": {
    "kernelspec": {
      "name": "pyenv_praw_download",
      "display_name": "Python (pyenv: praw_download)",
      "language": "python"
    },
    "language_info": {
      "name": "python",
      "version": "3.12.1",
      "mimetype": "text/x-python"
    }
  },
  "nbformat": 4,
  "nbformat_minor": 5
}